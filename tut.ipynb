{
  "nbformat": 4,
  "nbformat_minor": 0,
  "metadata": {
    "colab": {
      "name": "tut.ipynb",
      "provenance": [],
      "collapsed_sections": [],
      "mount_file_id": "19teC0lNjKg9w2puASMM19K-rTVBlwAyC",
      "authorship_tag": "ABX9TyMWV0ETGWYeuEELHV2dN6uy",
      "include_colab_link": true
    },
    "kernelspec": {
      "name": "python3",
      "display_name": "Python 3"
    }
  },
  "cells": [
    {
      "cell_type": "markdown",
      "metadata": {
        "id": "view-in-github",
        "colab_type": "text"
      },
      "source": [
        "<a href=\"https://colab.research.google.com/github/Thepnathi/Computer-Vision/blob/master/tut.ipynb\" target=\"_parent\"><img src=\"https://colab.research.google.com/assets/colab-badge.svg\" alt=\"Open In Colab\"/></a>"
      ]
    },
    {
      "cell_type": "code",
      "metadata": {
        "id": "QhFz3vNpbGYb",
        "outputId": "11ef8b31-091c-42d5-8e49-61bd56bbbee9",
        "colab": {
          "base_uri": "https://localhost:8080/",
          "height": 34
        }
      },
      "source": [
        "import numpy as np\n",
        "import pandas as pd\n",
        "import matplotlib.pyplot as plt\n",
        "import os\n",
        "import cv2\n",
        "from google.colab import drive\n",
        "\n",
        "# Accessing google drive\n",
        "drive.mount('/content/drive')\n",
        "IMAGE_PATH = \"drive/My Drive/Colab Notebooks/images\""
      ],
      "execution_count": null,
      "outputs": [
        {
          "output_type": "stream",
          "text": [
            "Drive already mounted at /content/drive; to attempt to forcibly remount, call drive.mount(\"/content/drive\", force_remount=True).\n"
          ],
          "name": "stdout"
        }
      ]
    },
    {
      "cell_type": "code",
      "metadata": {
        "id": "ZmeQCh56d-Gn"
      },
      "source": [
        "class LoadImage():\n",
        "  def __init__(self, path):\n",
        "    self.image_files = sorted([os.path.join(path, 'sample', file) for file in os.listdir(path) if file.endswith('jpg') or file.endswith('png')]) \n",
        "                              \n",
        "  def getImages(self):\n",
        "    return self.image_files\n",
        "  \n",
        "  def totalImages(self) -> int:\n",
        "    return len(self.image_files)\n",
        "\n",
        "  def displayImage(self, image, title=\"No title\"):\n",
        "    height = width = 220\n",
        "    dim = (height, width)\n",
        "    res_img = []\n",
        "    for i in range(len(image)):\n",
        "      res = cv2.resize(image[i], dim, interpolation=cv2.INTER_LINEAR)\n",
        "      res_img.append(res)\n",
        "    displayImage = res_img[0]\n",
        "    plt.imshow(displayImage), plt.title(title)\n",
        "    plt.show()"
      ],
      "execution_count": null,
      "outputs": []
    },
    {
      "cell_type": "code",
      "metadata": {
        "id": "l1waJUtDhLQ_",
        "outputId": "0f9dc847-d608-43b9-f5b2-3c41309d274b",
        "colab": {
          "base_uri": "https://localhost:8080/",
          "height": 34
        }
      },
      "source": [
        "def main():\n",
        "  images = LoadImage(IMAGE_PATH)\n",
        "  files = images.getImages()\n",
        "  print(files[0])\n",
        "\n",
        "main()"
      ],
      "execution_count": null,
      "outputs": [
        {
          "output_type": "stream",
          "text": [
            "drive/My Drive/Colab Notebooks/images/sample/xps13black.jpg\n"
          ],
          "name": "stdout"
        }
      ]
    },
    {
      "cell_type": "code",
      "metadata": {
        "id": "AY89Y0lc6fJG"
      },
      "source": [
        ""
      ],
      "execution_count": null,
      "outputs": []
    }
  ]
}